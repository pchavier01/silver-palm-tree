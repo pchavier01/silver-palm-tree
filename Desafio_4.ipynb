{
  "nbformat": 4,
  "nbformat_minor": 0,
  "metadata": {
    "colab": {
      "name": "Desafio 4 ",
      "provenance": [],
      "collapsed_sections": [],
      "authorship_tag": "ABX9TyOW2f0SeQagzFRHJ5JKXZc1",
      "include_colab_link": true
    },
    "kernelspec": {
      "name": "python3",
      "display_name": "Python 3"
    },
    "language_info": {
      "name": "python"
    }
  },
  "cells": [
    {
      "cell_type": "markdown",
      "metadata": {
        "id": "view-in-github",
        "colab_type": "text"
      },
      "source": [
        "<a href=\"https://colab.research.google.com/github/pchavier01/silver-palm-tree/blob/main/Desafio_4.ipynb\" target=\"_parent\"><img src=\"https://colab.research.google.com/assets/colab-badge.svg\" alt=\"Open In Colab\"/></a>"
      ]
    },
    {
      "cell_type": "code",
      "execution_count": null,
      "metadata": {
        "colab": {
          "base_uri": "https://localhost:8080/"
        },
        "id": "d2PUJiHiZkDc",
        "outputId": "297b8574-6320-4e04-d6d0-e9e3c10f1b24"
      },
      "outputs": [
        {
          "output_type": "stream",
          "name": "stdout",
          "text": [
            "26\n"
          ]
        }
      ],
      "source": [
        "import random\n",
        "\n",
        "print(random.randrange(1,100))"
      ]
    },
    {
      "cell_type": "code",
      "source": [
        "\"\"\"\n",
        "Desenvolva os exercícios a seguir utilizando o conceito de listas:\n",
        "a. Crie um vetor de int vetA com tamanho 5 e mostre na tela os \n",
        "valores de seus elementos\n",
        "\"\"\"\n",
        "\n",
        "lista = [\"item1\", \"item2\", \"item3\",\"item4\",\"item5\"]\n",
        "v = lista[4]\n",
        "print(v)"
      ],
      "metadata": {
        "colab": {
          "base_uri": "https://localhost:8080/"
        },
        "id": "8gcfPk-qZ1ae",
        "outputId": "f25cf194-c24c-4e5b-a8c6-2921adb6557c"
      },
      "execution_count": null,
      "outputs": [
        {
          "output_type": "stream",
          "name": "stdout",
          "text": [
            "item5\n"
          ]
        }
      ]
    },
    {
      "cell_type": "code",
      "source": [
        "len(lista)"
      ],
      "metadata": {
        "colab": {
          "base_uri": "https://localhost:8080/"
        },
        "id": "7omW1bwGd4g1",
        "outputId": "848458a7-3613-4bf3-af86-23c45b237b90"
      },
      "execution_count": null,
      "outputs": [
        {
          "output_type": "execute_result",
          "data": {
            "text/plain": [
              "5"
            ]
          },
          "metadata": {},
          "execution_count": 17
        }
      ]
    },
    {
      "cell_type": "code",
      "source": [
        "\"\"\"\n",
        "Considere a lista de compras de Joana e faça o que se pede:\n",
        "lista_de_compras = [“batata”, “arroz”, “feijão”, “macarrão”, “detergente”]\n",
        "i. Mostre na tela o tamanho da lista.\n",
        "ii. Joana descobriu que não precisa de arroz, mas sim de \n",
        "jiló. Realize a substituição do item.\n",
        "iii. Joana encontrou um detergente na sua cozinha, elimine \n",
        "o item.\n",
        "iv. Joana se lembrou que precisa de abacates. Realize a \n",
        "inserção do item na lista\n",
        "v. Mostre todos os itens de forma individual utilizando \n",
        "um comando FOR.\n",
        "\"\"\"\n",
        "\n",
        "lista_compras = [\"batata\",\"arroz\",\"feijão\",\"macarrão\",\"detergente\"]\n",
        "len(lista_compras)"
      ],
      "metadata": {
        "colab": {
          "base_uri": "https://localhost:8080/"
        },
        "id": "41E_9NtFdJIW",
        "outputId": "6304a46e-e85a-443d-fee6-5aebf1feabd0"
      },
      "execution_count": null,
      "outputs": [
        {
          "output_type": "execute_result",
          "data": {
            "text/plain": [
              "5"
            ]
          },
          "metadata": {},
          "execution_count": 28
        }
      ]
    },
    {
      "cell_type": "code",
      "source": [
        "lista_compras = [\"batata\",\"arroz\",\"feijão\",\"macarrão\",\"detergente\"]\n",
        "len(lista_compras)\n",
        "\n",
        "lista_compras = [\"batata\",\"arroz\",\"feijão\",\"macarrão\",\"detergente\"]\n",
        "lista_compras.remove (input(\"Digite o item que deseja remover: \"))\n",
        "lista_compras.append (input(\"Digite o ingrediente que deseja adicionar: \"))\n",
        "print(lista_compras)\n",
        "lista_compras.remove (input(\"Digite o item que deseja remover: \"))\n",
        "print(lista_compras)\n",
        "lista_compras.append (input(\"Digite o ingrediente que deseja adicionar: \"))\n",
        "print(lista_compras)\n",
        "\n",
        "for item in lista_compras:\n",
        "  print(item)"
      ],
      "metadata": {
        "colab": {
          "base_uri": "https://localhost:8080/"
        },
        "id": "2wUTRPAKhI3X",
        "outputId": "ffda86d2-6e26-4c96-ab6b-29e26cd8cd3b"
      },
      "execution_count": null,
      "outputs": [
        {
          "output_type": "stream",
          "name": "stdout",
          "text": [
            "Digite o item que deseja remover: arroz\n",
            "Digite o ingrediente que deseja adicionar: jiló\n",
            "['batata', 'feijão', 'macarrão', 'detergente', 'jiló']\n",
            "Digite o item que deseja remover: detergente\n",
            "['batata', 'feijão', 'macarrão', 'jiló']\n",
            "Digite o ingrediente que deseja adicionar: abacates\n",
            "['batata', 'feijão', 'macarrão', 'jiló', 'abacates']\n",
            "batata\n",
            "feijão\n",
            "macarrão\n",
            "jiló\n",
            "abacates\n"
          ]
        }
      ]
    },
    {
      "cell_type": "code",
      "source": [
        "###  [i] <= serve para substituiçã... exemplo lista_compras[i] = \"jilô\"\n",
        "### pop <= remove um indice da lista desejado iniciando do 0 ou usar o remove.... exemplo lista de compras.pop(4) \n",
        "\n",
        "##"
      ],
      "metadata": {
        "id": "DdKAWxl0hUSd"
      },
      "execution_count": 1,
      "outputs": []
    },
    {
      "cell_type": "code",
      "source": [
        "##Nivel medio\n",
        "\n",
        "\"\"\"\n",
        "Desenvolva os exercícios a seguir utilizando o conceito de listas, \n",
        "tuplas, sets ou dicionários:\n",
        "a. Crie uma list de int vetB com tamanho 5, insira um inteiro com \n",
        "entrada do teclado para cada um dos elementos e mostre na tela os \n",
        "seus valores após a inserção dos elementos.\n",
        "\"\"\"\n",
        "\n",
        "vetB = [\"pera\",\"uva\",\"maça\",\"banana\",\"kiwi\"]\n",
        "vetB[2]"
      ],
      "metadata": {
        "colab": {
          "base_uri": "https://localhost:8080/",
          "height": 35
        },
        "id": "_UvMnPKpjyha",
        "outputId": "6e98e6a6-de04-4c94-e506-ee049d5ae167"
      },
      "execution_count": null,
      "outputs": [
        {
          "output_type": "execute_result",
          "data": {
            "text/plain": [
              "'maça'"
            ],
            "application/vnd.google.colaboratory.intrinsic+json": {
              "type": "string"
            }
          },
          "metadata": {},
          "execution_count": 114
        }
      ]
    },
    {
      "cell_type": "code",
      "source": [
        "\"\"\"\n",
        "Desenvolva os exercícios a seguir utilizando o conceito de listas, \n",
        "tuplas, sets ou dicionários:\n",
        "a. Crie uma list de int vetB com tamanho 5, insira um inteiro com \n",
        "entrada do teclado para cada um dos elementos e mostre na tela os \n",
        "seus valores após a inserção dos elementos.\n",
        "\"\"\"\n",
        "vetb = []\n",
        "for i in range(5):\n",
        "  texto = \"Digite o número\" + str(i+1) + \" :\" \n",
        "  vetb.append(int(input(texto)))\n",
        "print(vetb)\n"
      ],
      "metadata": {
        "colab": {
          "base_uri": "https://localhost:8080/"
        },
        "id": "VNwBSAw23-u_",
        "outputId": "91261e94-aecd-4648-a843-381d71db7a1d"
      },
      "execution_count": 10,
      "outputs": [
        {
          "output_type": "stream",
          "name": "stdout",
          "text": [
            "Digite o número1 :10\n",
            "Digite o número2 :20\n",
            "Digite o número3 :30\n",
            "Digite o número4 :50\n",
            "Digite o número5 :20\n",
            "[10, 20, 30, 50, 20]\n"
          ]
        }
      ]
    },
    {
      "cell_type": "code",
      "source": [
        "\"\"\"\n",
        "rie uma list de string vetC com tamanho 5 e insira dados à \n",
        "partir do teclado para cada um dos elementos e mostre na tela os \n",
        "seus valores após a inserção dos dados.\n",
        "\"\"\"\n",
        "\n",
        "vetC = [\"pera\",\"uva\",\"maça\",\"banana\",\"kiwi\"]\n",
        "for i in range(len(vetC)):\n",
        "  print(vetC[i])\n"
      ],
      "metadata": {
        "colab": {
          "base_uri": "https://localhost:8080/"
        },
        "id": "kyZCBr37r_8S",
        "outputId": "4c54de1e-80c3-4a70-c75f-1da98ffec7ce"
      },
      "execution_count": null,
      "outputs": [
        {
          "output_type": "stream",
          "name": "stdout",
          "text": [
            "pera\n",
            "uva\n",
            "maça\n",
            "banana\n",
            "kiwi\n"
          ]
        }
      ]
    },
    {
      "cell_type": "code",
      "source": [
        "\"\"\"\n",
        "c. Crie uma list de int vetD com tamanho 50, atribua ao conteúdo de \n",
        "cada um de seus elementos o valor de seu índice e mostre o valor \n",
        "de cada um dos elementos na tela multiplicados por 2.\n",
        "\"\"\"\n",
        "vetD = []\n",
        "for i in range(50):\n",
        "  vetD.append(i)\n",
        "for i in range(len(vetD)):\n",
        "  print(vetD[i]*2)"
      ],
      "metadata": {
        "colab": {
          "base_uri": "https://localhost:8080/"
        },
        "id": "mexfdOVDvWXv",
        "outputId": "570c3210-ca37-426c-f461-cb7bdd7c6244"
      },
      "execution_count": null,
      "outputs": [
        {
          "output_type": "stream",
          "name": "stdout",
          "text": [
            "0\n",
            "2\n",
            "4\n",
            "6\n",
            "8\n",
            "10\n",
            "12\n",
            "14\n",
            "16\n",
            "18\n",
            "20\n",
            "22\n",
            "24\n",
            "26\n",
            "28\n",
            "30\n",
            "32\n",
            "34\n",
            "36\n",
            "38\n",
            "40\n",
            "42\n",
            "44\n",
            "46\n",
            "48\n",
            "50\n",
            "52\n",
            "54\n",
            "56\n",
            "58\n",
            "60\n",
            "62\n",
            "64\n",
            "66\n",
            "68\n",
            "70\n",
            "72\n",
            "74\n",
            "76\n",
            "78\n",
            "80\n",
            "82\n",
            "84\n",
            "86\n",
            "88\n",
            "90\n",
            "92\n",
            "94\n",
            "96\n",
            "98\n"
          ]
        }
      ]
    },
    {
      "cell_type": "code",
      "source": [
        "\"\"\"\n",
        ". Crie uma tupla contendo todos os meses do ano e mostre qual mês \n",
        "corresponde ao índice 8.\n",
        "\"\"\"\n",
        "\n",
        "meses = (\"Janeiro\",\"Fevereiro\",\"Março\",\"Abril\",\"Maio\",\"Junho\",\"Julho\",\"Agosto\",\"Setembro\",\"Outubro\",\"Novembro\",\"Dezembro\")\n",
        "meses[8]"
      ],
      "metadata": {
        "colab": {
          "base_uri": "https://localhost:8080/",
          "height": 35
        },
        "id": "MTsyvq8Ly1ff",
        "outputId": "53157f3c-b53e-4d2c-99f8-fd55e9d8d25e"
      },
      "execution_count": null,
      "outputs": [
        {
          "output_type": "execute_result",
          "data": {
            "text/plain": [
              "'Setembro'"
            ],
            "application/vnd.google.colaboratory.intrinsic+json": {
              "type": "string"
            }
          },
          "metadata": {},
          "execution_count": 116
        }
      ]
    },
    {
      "cell_type": "code",
      "source": [
        "\"\"\"\n",
        "e. Crie um set contendo as partes de um computador e depois adicione \n",
        "o item “memória RAM” e mostre o set na tela.\n",
        "\"\"\"\n",
        "\n",
        "computador = set([\"Culler\", \"Placa mãe\", \"HD\"])\n",
        "computador.add(\"Memória RAM\")\n",
        "print(computador)"
      ],
      "metadata": {
        "colab": {
          "base_uri": "https://localhost:8080/"
        },
        "id": "rguk9npXzU0-",
        "outputId": "a74bffe5-8215-4dd4-e612-45d9cfa0af96"
      },
      "execution_count": null,
      "outputs": [
        {
          "output_type": "stream",
          "name": "stdout",
          "text": [
            "{'Placa mãe', 'Memória RAM', 'HD', 'Culler'}\n"
          ]
        }
      ]
    },
    {
      "cell_type": "code",
      "source": [
        "\"\"\"\n",
        ". Crie um dicionário que guarde as informações de 5 conceitos de \n",
        "Python que você aprendeu até agora. \n",
        "\"\"\"\n",
        "\n",
        "dic = {\n",
        "    \"ultilidades\": \"comentários\",\n",
        "    \"estrutura\": \"variáveis\",\n",
        "    \"condicionais\": [\"if\", \"elif\", \"else\"]\n",
        "    \n",
        "}\n",
        "\n",
        "print(dic)"
      ],
      "metadata": {
        "colab": {
          "base_uri": "https://localhost:8080/"
        },
        "id": "kCZ3IO2l1zfO",
        "outputId": "c3e5d971-9c6b-4e0a-9a15-f23ddf51d2f4"
      },
      "execution_count": null,
      "outputs": [
        {
          "output_type": "stream",
          "name": "stdout",
          "text": [
            "{'ultilidades': 'comentários', 'estrutura': 'variáveis', 'condicionais': ['if', 'elif', 'else']}\n"
          ]
        }
      ]
    },
    {
      "cell_type": "code",
      "source": [
        "\"\"\"\n",
        "Desenvolva os exercícios a seguir utilizando o conceito de listas, \n",
        "tuplas, sets ou dicionários:\n",
        "a. Crie uma lista de int vetF com tamanho 100 e atribua aos índices \n",
        "pares um valor aleatório entre 0 e 100 e aos ímpares o valor de \n",
        "seu índice multiplicado por 2 e mostre seu valor na tela de cada \n",
        "um dos elementos.\n",
        "\"\"\"\n",
        "import random \n",
        "\n",
        "vetF = []\n",
        "for i in range(100):\n",
        "  if i % 2 == 0:\n",
        "    vetF.append(random.randrange(0,101))\n",
        "  else:\n",
        "    vetF.append(1*2)\n",
        "for x in vetF:\n",
        "  print(x)\n",
        "\n"
      ],
      "metadata": {
        "id": "6fQzmQiu7eL_",
        "colab": {
          "base_uri": "https://localhost:8080/"
        },
        "outputId": "da720e28-229a-409c-ab81-1ea1e77f04b8"
      },
      "execution_count": 12,
      "outputs": [
        {
          "output_type": "stream",
          "name": "stdout",
          "text": [
            "56\n",
            "2\n",
            "28\n",
            "2\n",
            "95\n",
            "2\n",
            "39\n",
            "2\n",
            "50\n",
            "2\n",
            "50\n",
            "2\n",
            "32\n",
            "2\n",
            "58\n",
            "2\n",
            "6\n",
            "2\n",
            "95\n",
            "2\n",
            "81\n",
            "2\n",
            "64\n",
            "2\n",
            "70\n",
            "2\n",
            "48\n",
            "2\n",
            "52\n",
            "2\n",
            "49\n",
            "2\n",
            "44\n",
            "2\n",
            "29\n",
            "2\n",
            "20\n",
            "2\n",
            "85\n",
            "2\n",
            "75\n",
            "2\n",
            "12\n",
            "2\n",
            "42\n",
            "2\n",
            "80\n",
            "2\n",
            "5\n",
            "2\n",
            "92\n",
            "2\n",
            "71\n",
            "2\n",
            "83\n",
            "2\n",
            "69\n",
            "2\n",
            "39\n",
            "2\n",
            "52\n",
            "2\n",
            "50\n",
            "2\n",
            "12\n",
            "2\n",
            "28\n",
            "2\n",
            "40\n",
            "2\n",
            "25\n",
            "2\n",
            "18\n",
            "2\n",
            "17\n",
            "2\n",
            "72\n",
            "2\n",
            "73\n",
            "2\n",
            "14\n",
            "2\n",
            "46\n",
            "2\n",
            "85\n",
            "2\n",
            "98\n",
            "2\n",
            "66\n",
            "2\n",
            "48\n",
            "2\n",
            "95\n",
            "2\n",
            "69\n",
            "2\n",
            "1\n",
            "2\n",
            "26\n",
            "2\n"
          ]
        }
      ]
    },
    {
      "cell_type": "code",
      "source": [
        "\"\"\"\n",
        "Crie um dicionário que guarde as seguintes informações de uma \n",
        "pessoa: nome, cpf, telefone e endereço.\n",
        "\n",
        "\"\"\"\n",
        "\n",
        "pessoa = {\n",
        "    \"nome\": \"Fernando\",\n",
        "    \"cpf\": \"12345678910\",\n",
        "    \"telefone\":\"(43)99999-9999\",\n",
        "    \"endereco\":\"Rua Laranjeiras 100\",\n",
        "}\n",
        "pessoa"
      ],
      "metadata": {
        "colab": {
          "base_uri": "https://localhost:8080/"
        },
        "id": "OxETKB2o8gAE",
        "outputId": "85cdc15d-f8b1-4c43-f3b7-2072e3c7f639"
      },
      "execution_count": 19,
      "outputs": [
        {
          "output_type": "execute_result",
          "data": {
            "text/plain": [
              "{'cpf': '12345678910',\n",
              " 'endereco': 'Rua Laranjeiras 100',\n",
              " 'nome': 'Fernando',\n",
              " 'telefone': '(43)99999-9999'}"
            ]
          },
          "metadata": {},
          "execution_count": 19
        }
      ]
    },
    {
      "cell_type": "code",
      "source": [
        "\"\"\"\n",
        "c. Crie uma lista de dicionários que guarde as seguintes informações \n",
        "de uma pessoa: nome, cpf, telefone e endereço. \n",
        "\"\"\"\n",
        "lista_pessoas = []\n",
        "lista_pessoas.append(pessoa)\n",
        "pessoa = {\n",
        "    \"nome\": \"Gabriel\",\n",
        "    \"cpf\": \"12345678911\",\n",
        "    \"telefone\":\"(43)99999-8888\",\n",
        "    \"endereco\":\"Rua Morangueira 200\",\n",
        "}\n",
        "lista_pessoas.append(pessoa)\n",
        "pessoa = {\n",
        "    \"nome\": \"Ana\",\n",
        "    \"cpf\": \"12345678912\",\n",
        "    \"telefone\":\"(43)99999-7777\",\n",
        "    \"endereco\":\"Rua Amoreira 300\",\n",
        "}\n",
        "lista_pessoas.append(pessoa)\n",
        "lista_pessoas"
      ],
      "metadata": {
        "colab": {
          "base_uri": "https://localhost:8080/"
        },
        "id": "KaQVLY0i9YG9",
        "outputId": "e7e058ca-adbb-42df-e00f-828e75106374"
      },
      "execution_count": 20,
      "outputs": [
        {
          "output_type": "execute_result",
          "data": {
            "text/plain": [
              "[{'cpf': '12345678910',\n",
              "  'endereco': 'Rua Laranjeiras 100',\n",
              "  'nome': 'Fernando',\n",
              "  'telefone': '(43)99999-9999'},\n",
              " {'cpf': '12345678911',\n",
              "  'endereco': 'Rua Morangueira 200',\n",
              "  'nome': 'Gabriel',\n",
              "  'telefone': '(43)99999-8888'},\n",
              " {'cpf': '12345678912',\n",
              "  'endereco': 'Rua Amoreira 300',\n",
              "  'nome': 'Ana',\n",
              "  'telefone': '(43)99999-7777'}]"
            ]
          },
          "metadata": {},
          "execution_count": 20
        }
      ]
    },
    {
      "cell_type": "code",
      "source": [
        "\"\"\"\n",
        "A partir do exercício anterior crie uma busca onde o usuário possa procurar uma pessoa por nome, cpf, telefone ou endereço\n",
        "\"\"\"\n",
        "comando = 0\n",
        "while comando != 9:\n",
        "  print(\"Selecione o atributo de busca\\n\\\n",
        "        1 - Nome\\n\\\n",
        "        2 - Cpf\\n\\\n",
        "        3 - Telefone\\n\\\n",
        "        4 - Endereço\\n\\\n",
        "        9 - Sair\\n\")\n",
        "  comando = int(input(\"Digite o comando:\"))\n",
        "  comando_invalido = False\n",
        "  if comando != 9:\n",
        "    if comando == 1:\n",
        "      atributo = \"nome\"\n",
        "    elif comando == 2:\n",
        "      atributo = \"cpf\"\n",
        "    elif comando == 3:\n",
        "      atributo = \"telefone\"\n",
        "    elif comando == 4:\n",
        "      atributo = \"endereco\"\n",
        "    else:\n",
        "      print(\"Comando inválido.\")\n",
        "      comando_invalido = True\n",
        "    if comando_invalido == False:\n",
        "      termo = input(\"Digite o termo de busca:\")\n",
        "      for pessoa in lista_pessoas:\n",
        "        if termo == pessoa[atributo]:\n",
        "          for chave in pessoa:\n",
        "            print(chave, \":\", pessoa[chave])\n",
        "          print(\"-------------------\")\n",
        "  else:\n",
        "    print(\"Até logo!\")\n"
      ],
      "metadata": {
        "colab": {
          "base_uri": "https://localhost:8080/"
        },
        "id": "juuz9wFW8nkK",
        "outputId": "37c8d000-5054-4762-8e12-b90da56b19cf"
      },
      "execution_count": 21,
      "outputs": [
        {
          "output_type": "stream",
          "name": "stdout",
          "text": [
            "Selecione o atributo de busca\n",
            "        1 - Nome\n",
            "        2 - Cpf\n",
            "        3 - Telefone\n",
            "        4 - Endereço\n",
            "        9 - Sair\n",
            "\n",
            "Digite o comando:1\n",
            "Digite o termo de busca:Fernando\n",
            "nome : Fernando\n",
            "cpf : 12345678910\n",
            "telefone : (43)99999-9999\n",
            "endereco : Rua Laranjeiras 100\n",
            "-------------------\n",
            "Selecione o atributo de busca\n",
            "        1 - Nome\n",
            "        2 - Cpf\n",
            "        3 - Telefone\n",
            "        4 - Endereço\n",
            "        9 - Sair\n",
            "\n",
            "Digite o comando:9\n",
            "Até logo!\n"
          ]
        }
      ]
    },
    {
      "cell_type": "code",
      "source": [
        "\"\"\"Crie uma lista de string vetI e atribua a cada um de seus\n",
        "elementos um nome com dados vindos do teclado.\"\"\"\n",
        "\n",
        "vetI = []\n",
        "vetI.append(\"Maria\")\n",
        "vetI.append(\"João\")\n",
        "vetI.append(\"Marcelo\")\n",
        "vetI.append(\"Henrique\")\n",
        "vetI.append(\"Maria\")\n",
        "\n",
        "sBusca = input(\"Digite o nome para a busca:\")\n",
        "for i in range( len(vetI) ):\n",
        "  if sBusca == vetI[i]:\n",
        "    print(i)"
      ],
      "metadata": {
        "colab": {
          "base_uri": "https://localhost:8080/"
        },
        "id": "lqHDU-Sz__Th",
        "outputId": "8964c82a-7ced-4f69-9110-17b7e05ccdb8"
      },
      "execution_count": 22,
      "outputs": [
        {
          "output_type": "stream",
          "name": "stdout",
          "text": [
            "Digite o nome para a busca:Maria\n",
            "0\n",
            "4\n"
          ]
        }
      ]
    },
    {
      "cell_type": "code",
      "source": [
        ""
      ],
      "metadata": {
        "id": "APDVSp6iC42D"
      },
      "execution_count": null,
      "outputs": []
    }
  ]
}