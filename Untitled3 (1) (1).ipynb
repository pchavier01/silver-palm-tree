{
  "nbformat": 4,
  "nbformat_minor": 0,
  "metadata": {
    "colab": {
      "name": "Untitled3.ipynb",
      "provenance": [],
      "collapsed_sections": []
    },
    "kernelspec": {
      "name": "python3",
      "display_name": "Python 3"
    },
    "language_info": {
      "name": "python"
    }
  },
  "cells": [
    {
      "cell_type": "code",
      "execution_count": null,
      "metadata": {
        "colab": {
          "base_uri": "https://localhost:8080/"
        },
        "id": "_GkUPS-WlfLA",
        "outputId": "7641935a-0e02-4134-91d8-4e23b8ff66ae"
      },
      "outputs": [
        {
          "output_type": "stream",
          "name": "stdout",
          "text": [
            "Digite um numerador: 5\n",
            "Digite um denominador: 0\n",
            "Não é possível dividir por 0!\n"
          ]
        }
      ],
      "source": [
        "\"\"\"\n",
        "tenha como entrada dois números e exiba a sua divisão. Lembre-se \n",
        "que não é possível dividir por 0!\n",
        "\n",
        "\"\"\"\n",
        "\n",
        "n1 = int(input(\"Digite um numerador: \"))\n",
        "d2 = int(input(\"Digite um denominador: \")) \n",
        "\n",
        "if d2 != 0:\n",
        "   print(n1/d2) \n",
        "\n",
        "else:\n",
        "   print(\"Não é possível dividir por 0!\")   "
      ]
    },
    {
      "cell_type": "code",
      "source": [
        "\"\"\"\n",
        "Ler uma nota de 0 à 10 de um aluno. Caso o usuário digite um \n",
        "valor inválido, mostrar a mensagem: \"Nota inválida! Digite um \n",
        "valor de 0 à 10!\"\n",
        "\n",
        "\"\"\"\n",
        "\n",
        "nota= float(input(\"Digite o valor de uma nota: \"))\n",
        "\n",
        "\n",
        "if (nota <10) and (nota >0):\n",
        "  print(\"A nota do aluno é\" , nota)\n",
        "\n",
        "else:\n",
        "  print(\"Nota inválida. Digite um numero de 0 a 10!\") \n",
        "\n"
      ],
      "metadata": {
        "colab": {
          "base_uri": "https://localhost:8080/"
        },
        "id": "t3zwaI3sohVL",
        "outputId": "8b65e956-1690-46dc-e7db-05b52cbfb192"
      },
      "execution_count": null,
      "outputs": [
        {
          "output_type": "stream",
          "name": "stdout",
          "text": [
            "Digite o valor de uma nota: -20\n",
            "Nota inválida. Digite um numero de 0 a 10!\n"
          ]
        }
      ]
    },
    {
      "cell_type": "code",
      "source": [
        "\"\"\"\n",
        "leia um número e mostre se ele é positivo ou negativo ou zero.\n",
        "\n",
        "\"\"\"\n",
        "\n",
        "n1 = float(input(\"Digite um numero: \"))\n",
        "\n",
        "if n1 >0:\n",
        "  print(\"Positivo!\")\n",
        "\n",
        "elif n1 <0:\n",
        "  print(\"Negativo!\")\n",
        "\n",
        "else:\n",
        "  print(\"Zero!\")\n"
      ],
      "metadata": {
        "colab": {
          "base_uri": "https://localhost:8080/"
        },
        "id": "Nt7JNIkzyPqR",
        "outputId": "f7207669-3337-4ff0-8fb5-89fbda989f94"
      },
      "execution_count": null,
      "outputs": [
        {
          "output_type": "stream",
          "name": "stdout",
          "text": [
            "Digite um numero: 0\n",
            "Zero!\n"
          ]
        }
      ]
    },
    {
      "cell_type": "code",
      "source": [
        "\"\"\"\n",
        "Ler 3 valores e escrever o maior deles\n",
        "\n",
        "\"\"\"\n",
        "\n",
        "valor1 = int(input(\"Digite o primeiro valor: \"))\n",
        "valor2 = int(input(\"Digite o segundo valor: \"))\n",
        "valor3 = int(input(\"Digite o terceiro: \"))\n",
        "\n",
        "maior = valor1\n",
        "\n",
        "if valor2 > maior:\n",
        "  maior = valor2\n",
        "\n",
        "if valor3 > maior:\n",
        "  maior = valor3\n",
        "\n",
        "else: \n",
        "  print(\"Maior:\" , maior)    "
      ],
      "metadata": {
        "colab": {
          "base_uri": "https://localhost:8080/"
        },
        "id": "-QVOK-ChykiZ",
        "outputId": "6fcda23c-506e-4958-82f4-28307b95bb55"
      },
      "execution_count": null,
      "outputs": [
        {
          "output_type": "stream",
          "name": "stdout",
          "text": [
            "Digite o primeiro valor: 5\n",
            "Digite o segundo valor: 10\n",
            "Digite o terceiro: 6\n",
            "Maior: 10\n"
          ]
        }
      ]
    },
    {
      "cell_type": "code",
      "source": [
        "##nível médio\n",
        "\"\"\"\n",
        "As maçãs de um mercado custam R$ 1,30 cada se forem compradas \n",
        "menos de uma dúzia, e R$ 1,00 se forem compradas pelo menos 12. \n",
        "Escreva um programa que leia o número de maçãs compradas, calcule \n",
        "e escreva o custo total da compra.\n",
        "\n",
        "\"\"\"\n",
        "\n",
        "qtd_macas = int(input(\"Digite a quantidade de macas compradas: \"))\n",
        "\n",
        "if qtd_macas >0 and qtd_macas <12:\n",
        "   preco = 1.30\n",
        "\n",
        "else:\n",
        "     preco = 1.00 \n",
        "\n",
        "print(\"O valor total é de R$:\", qtd_macas*preco)\n",
        "\n"
      ],
      "metadata": {
        "colab": {
          "base_uri": "https://localhost:8080/"
        },
        "id": "ew-WVier4piI",
        "outputId": "c22eb7ce-2c41-409b-80ec-e82d33406664"
      },
      "execution_count": null,
      "outputs": [
        {
          "output_type": "stream",
          "name": "stdout",
          "text": [
            "Digite a quantidade de macas compradas: 20\n",
            "O valor total é de R$: 20.0\n"
          ]
        }
      ]
    },
    {
      "cell_type": "code",
      "source": [
        "\"\"\"\n",
        "Ler as notas da 1ª e 2ª avaliações de um aluno. Calcular a média \n",
        "aritmética simples e escrever uma mensagem que diga se o aluno \n",
        "foi ou não aprovado (considerar que nota igual ou maior que 6 \n",
        "aluno é aprovado). Escrever também a média calculada.\n",
        "\n",
        "\"\"\"\n",
        "\n",
        "nt_avaliacao1 = float(input(\"Digite o valor da nota 1: \"))\n",
        "nt_avaliacao2 = float(input(\"Digite o valor da nota 2:\")) \n",
        "media = (nt_avaliacao1+nt_avaliacao2) / 2 \n",
        "\n",
        "if media >=6:\n",
        "  print(\"Aprovado!\")\n",
        "\n",
        "else:\n",
        "  print(\"Reprovado!\")"
      ],
      "metadata": {
        "colab": {
          "base_uri": "https://localhost:8080/"
        },
        "id": "kEpWiAvb7iq-",
        "outputId": "cce6f9c6-6bd2-4130-aeaa-712a3fb2f585"
      },
      "execution_count": null,
      "outputs": [
        {
          "output_type": "stream",
          "name": "stdout",
          "text": [
            "Digite o valor da nota 1: 6\n",
            "Digite o valor da nota 2:9\n",
            "Aprovado!\n"
          ]
        }
      ]
    },
    {
      "cell_type": "code",
      "source": [
        "\"\"\"\n",
        "A jornada de trabalho mensal de um funcionário na empresa X é de \n",
        "160 horas. O funcionário que trabalhar mais de 160 horas receberá \n",
        "hora extra, cujo cálculo é o valor da hora regular com um \n",
        "acréscimo de 50%. Escreva um algoritmo que leia o número de horas \n",
        "trabalhadas em um mês, o salário por hora e escreva o salário \n",
        "total do funcionário, que deverá ser acrescido das horas extras, \n",
        "caso tenham sido trabalhadas.\n",
        "\n",
        "\"\"\"\n",
        "\n",
        "horasmesf = int(input(\"Digite a quantidade de horas trabalhadas no mes: \"))\n",
        "salario = int(input(\"Digite o salario mensal: \"))\n",
        "valorhora = int(input(\"Digite o valor da hora trabalhada: \"))\n",
        "hora_extra = 0.50\n",
        "\n",
        " salario_total = (valorhora*hora_extra) + salario:\n",
        "\n",
        "\n",
        "\n",
        "\n",
        "\n"
      ],
      "metadata": {
        "colab": {
          "base_uri": "https://localhost:8080/",
          "height": 130
        },
        "id": "QM7084SA9MhO",
        "outputId": "144aa747-9229-414e-96d7-eafc0f57f518"
      },
      "execution_count": null,
      "outputs": [
        {
          "output_type": "error",
          "ename": "SyntaxError",
          "evalue": "ignored",
          "traceback": [
            "\u001b[0;36m  File \u001b[0;32m\"<ipython-input-132-32c0a092430a>\"\u001b[0;36m, line \u001b[0;32m17\u001b[0m\n\u001b[0;31m    if salario_total = (valorhora*hora_extra) + salario:\u001b[0m\n\u001b[0m                     ^\u001b[0m\n\u001b[0;31mSyntaxError\u001b[0m\u001b[0;31m:\u001b[0m invalid syntax\n"
          ]
        }
      ]
    },
    {
      "cell_type": "code",
      "source": [
        "##Nivel Avançado\n",
        "\n",
        "entrada1 = int(input(\"Digite a quantidade de apitos: \"))\n",
        "\n",
        "if entrada1 >0 and entrada1 <2:\n",
        "  print(\"Atualização de DRAM\")\n",
        "elif entrada1 ==2:\n",
        "  print(\"Circuito de Paridade\")\n",
        "elif entrada1 >2 and entrada1 <4:\n",
        "  print(\"Memória Base 64K RAM\")\n",
        "elif entrada1 >3 and entrada1 <5:\n",
        "  print(\"Timer do Sistema\")\n",
        "elif entrada1 ==5:\n",
        "  print(\"Processador\")\n"
      ],
      "metadata": {
        "id": "YfI-TafCFy5T",
        "colab": {
          "base_uri": "https://localhost:8080/"
        },
        "outputId": "612ff45f-c79b-4123-e477-7958c231507b"
      },
      "execution_count": null,
      "outputs": [
        {
          "output_type": "stream",
          "name": "stdout",
          "text": [
            "Digite a quantidade de apitos: 1\n",
            "Atualização de DRAM\n"
          ]
        }
      ]
    },
    {
      "cell_type": "code",
      "source": [
        "\"\"\"\n",
        ". leia uma nota de um aluno, de 0 à 10 e mostre na tela o seu \n",
        "conceito. Considere: \n",
        "nota >= 9,0 -> Excelente\n",
        ">= 7,0 e < 9,0 -> Bom\n",
        ">= 5,0 e < 7,0 -> Razoável\n",
        "< 5,0 -> Fraco\n",
        "\n",
        "\"\"\"\n",
        "\n",
        "aluno1 = int(input(\"Digite a sua nota: \"))\n",
        "\n",
        "if aluno1 >=9.0:\n",
        "  print(\"Excelente!\")\n",
        "elif aluno1 >= 7.00 and aluno1 <9.00:\n",
        "  print(\"Bom!\")\n",
        "elif aluno1 >=5.00 and aluno1 <7.00:\n",
        "  print(\"Razoavel!\")\n",
        "elif aluno1 <5.00:\n",
        "  print(\"Fraco!\")"
      ],
      "metadata": {
        "colab": {
          "base_uri": "https://localhost:8080/"
        },
        "id": "TPvKMWxgUIeq",
        "outputId": "c71e3055-c6b5-4ee2-b66c-44c5db7d4c1d"
      },
      "execution_count": null,
      "outputs": [
        {
          "output_type": "stream",
          "name": "stdout",
          "text": [
            "Digite a sua nota: 9\n",
            "Excelente!\n"
          ]
        }
      ]
    },
    {
      "cell_type": "code",
      "source": [
        "\"\"\"\n",
        "Escreva na tela “Boa Madrugada”, “Bom dia”, “Boa tarde” ou “Boa \n",
        "noite” dependendo da hora do dia que o usuário digitar no \n",
        "teclado. Caso a hora seja inválida mostre: “Erro. Hora inválida”. \n",
        "Opcional: mostre uma imagem diferente para cada alternativa\n",
        "\n",
        "\"\"\"\n",
        "\n",
        "hora = int(input(\"Digite a hora desejada: \"))\n",
        "\n",
        "if hora >=00 and hora <=5:\n",
        "  print(\"Boa Madrugada\")  \n",
        "elif hora >=6 and hora <=11:\n",
        "  print(\"Bom dia!\")\n",
        "elif hora >=12 and hora <=18:\n",
        "  print(\"Boa tarde!\")\n",
        "elif hora >=19 and hora <=23:\n",
        "  print(\"Boa noite!\")\n",
        "\n",
        "else:\n",
        "  print(\"Hora invalida\")"
      ],
      "metadata": {
        "colab": {
          "base_uri": "https://localhost:8080/"
        },
        "id": "pYCNCOwjVxha",
        "outputId": "7d471732-b932-4c9b-9b56-0a6883705646"
      },
      "execution_count": null,
      "outputs": [
        {
          "output_type": "stream",
          "name": "stdout",
          "text": [
            "Digite a hora desejada: 1\n",
            "Boa Madrugada\n"
          ]
        }
      ]
    }
  ]
}